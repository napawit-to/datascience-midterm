{
 "cells": [
  {
   "cell_type": "code",
   "execution_count": 2,
   "metadata": {},
   "outputs": [],
   "source": [
    "import os\n",
    "import numpy as np\n",
    "import pandas as pd"
   ]
  },
  {
   "cell_type": "code",
   "execution_count": 3,
   "metadata": {},
   "outputs": [
    {
     "data": {
      "text/plain": [
       "(395, 33)"
      ]
     },
     "execution_count": 3,
     "metadata": {},
     "output_type": "execute_result"
    }
   ],
   "source": [
    "df = pd.read_csv(\"/Users/admin/DataScience/midterm/student/student-mat.csv\")\n",
    "df.shape"
   ]
  },
  {
   "cell_type": "code",
   "execution_count": 4,
   "metadata": {},
   "outputs": [],
   "source": [
    "df = df.drop(columns = 'G2')\n",
    "df = df.drop(columns = 'G1')\n",
    "df.shape\n",
    "df['sex'].replace(['M', 'F'], [1, 0], inplace=True)\n",
    "df['address'].replace(['U', 'R'], [1, 0], inplace=True)\n",
    "df['famsize'].replace(['LE3', 'GT3'], [1, 0], inplace=True)\n",
    "df['Pstatus'].replace(['T', 'A'], [1, 0], inplace=True)\n",
    "df['Mjob'].replace(['other', 'services','at_home','teacher','health'], [4,3,2,1,0], inplace=True)\n",
    "df['Fjob'].replace(['other', 'services','at_home','teacher','health'], [4,3,2,1,0], inplace=True)\n",
    "df['reason'].replace(['course', 'home','reputation','other'], [3,2,1,0], inplace=True)\n",
    "df['schoolsup'].replace(['yes', 'no'], [1, 0], inplace=True)\n",
    "df['famsup'].replace(['yes', 'no'], [1, 0], inplace=True)\n",
    "df['paid'].replace(['yes', 'no'], [1, 0], inplace=True)\n",
    "df['activities'].replace(['yes', 'no'], [1, 0], inplace=True)\n",
    "df['nursery'].replace(['yes', 'no'], [1, 0], inplace=True)\n",
    "df['higher'].replace(['yes', 'no'], [1, 0], inplace=True)\n",
    "df['internet'].replace(['yes', 'no'], [1, 0], inplace=True)\n",
    "df['romantic'].replace(['yes', 'no'], [1, 0], inplace=True)\n",
    "df.loc[df['G3'] < 11, 'G3'] = 0\n",
    "df.loc[df['G3'] > 10, 'G3'] = 1\n",
    "X = df.iloc[:,1:30].values\n",
    "y = df.iloc[:,-1].values"
   ]
  },
  {
   "cell_type": "code",
   "execution_count": 5,
   "metadata": {},
   "outputs": [
    {
     "name": "stderr",
     "output_type": "stream",
     "text": [
      "/usr/local/lib/python3.7/site-packages/sklearn/preprocessing/_encoders.py:368: FutureWarning: The handling of integer data will change in version 0.22. Currently, the categories are determined based on the range [0, max(values)], while in the future they will be determined based on the unique values.\n",
      "If you want the future behaviour and silence this warning, you can specify \"categories='auto'\".\n",
      "In case you used a LabelEncoder before this OneHotEncoder to convert the categories to integers, then you can now use the OneHotEncoder directly.\n",
      "  warnings.warn(msg, FutureWarning)\n",
      "/usr/local/lib/python3.7/site-packages/sklearn/preprocessing/_encoders.py:390: DeprecationWarning: The 'categorical_features' keyword is deprecated in version 0.20 and will be removed in 0.22. You can use the ColumnTransformer instead.\n",
      "  \"use the ColumnTransformer instead.\", DeprecationWarning)\n"
     ]
    }
   ],
   "source": [
    "from sklearn.preprocessing import LabelEncoder, OneHotEncoder\n",
    "labelencoder_X_1 = LabelEncoder()\n",
    "X[:, 10] = labelencoder_X_1.fit_transform(X[:, 10])\n",
    "onehotencoder = OneHotEncoder(categorical_features = [10])\n",
    "X = onehotencoder.fit_transform(X).toarray()"
   ]
  },
  {
   "cell_type": "code",
   "execution_count": 9,
   "metadata": {},
   "outputs": [],
   "source": [
    "from sklearn.preprocessing import MinMaxScaler\n",
    "X_selection = X[:,[ 0,2,4,6,7,9,10,15,19,27]]\n",
    "from sklearn.model_selection import train_test_split\n",
    "X_train, X_test, y_train, y_test = train_test_split(X_selection, y, test_size=0.2,\n",
    "random_state=30434)\n",
    "mScaler =MinMaxScaler(copy=True, feature_range=(0, 1))\n",
    "X_train = mScaler.fit_transform(X_train)\n",
    "X_test = mScaler.transform(X_test)"
   ]
  },
  {
   "cell_type": "code",
   "execution_count": 11,
   "metadata": {},
   "outputs": [],
   "source": [
    "from sklearn.feature_selection import SelectKBest\n",
    "from sklearn.feature_selection import chi2\n",
    "\n",
    "selector = SelectKBest(score_func=chi2, k=10)\n",
    "selector_model = selector.fit(X_train, y_train)"
   ]
  },
  {
   "cell_type": "code",
   "execution_count": 12,
   "metadata": {},
   "outputs": [
    {
     "name": "stdout",
     "output_type": "stream",
     "text": [
      "[ 0.46514464  5.48735582  1.08435513  0.52698448  0.07003127  1.14721912\n",
      "  0.11908769 23.06835701  0.05748009  0.76397597]\n"
     ]
    }
   ],
   "source": [
    "print(selector_model.scores_)"
   ]
  },
  {
   "cell_type": "code",
   "execution_count": 13,
   "metadata": {},
   "outputs": [
    {
     "data": {
      "text/plain": [
       "(316, 10)"
      ]
     },
     "execution_count": 13,
     "metadata": {},
     "output_type": "execute_result"
    }
   ],
   "source": [
    "X_train_model = selector_model.transform(X_train)\n",
    "X_test_model = selector_model.transform(X_test)\n",
    "X_train_model.shape"
   ]
  },
  {
   "cell_type": "code",
   "execution_count": 14,
   "metadata": {},
   "outputs": [
    {
     "name": "stdout",
     "output_type": "stream",
     "text": [
      "Performance Logistic Regression:\n",
      " - accuracy = 0.569620253164557\n",
      " - precision = 0.5185185185185185\n",
      " - recall = 0.7777777777777778\n",
      " - f1 = 0.6222222222222222\n"
     ]
    }
   ],
   "source": [
    "# Logistic regression\n",
    "\n",
    "from sklearn.linear_model import LogisticRegression\n",
    "logisticRegr = LogisticRegression(solver='lbfgs', max_iter=1000)\n",
    "logisticRegr.fit(X_train_model, y_train)\n",
    "predictions = logisticRegr.predict(X_test_model)\n",
    "from sklearn.metrics import accuracy_score, precision_score,recall_score, f1_score\n",
    "accuracy = accuracy_score(y_test, predictions)\n",
    "precision = precision_score(y_test, predictions)\n",
    "recall = recall_score(y_test, predictions)\n",
    "f1 = f1_score(y_test, predictions)\n",
    "print(\"Performance Logistic Regression:\")\n",
    "print(\" - accuracy = \" + str(accuracy))\n",
    "print(\" - precision = \" + str(precision))\n",
    "print(\" - recall = \" + str(recall))\n",
    "print(\" - f1 = \" + str(f1))"
   ]
  },
  {
   "cell_type": "code",
   "execution_count": 15,
   "metadata": {},
   "outputs": [
    {
     "name": "stdout",
     "output_type": "stream",
     "text": [
      "Performance Random forest:\n",
      " - accuracy = 0.5443037974683544\n",
      " - precision = 0.5\n",
      " - recall = 0.5277777777777778\n",
      " - f1 = 0.5135135135135136\n"
     ]
    }
   ],
   "source": [
    "# Random forest\n",
    "\n",
    "from sklearn.ensemble import RandomForestClassifier\n",
    "clf=RandomForestClassifier(n_estimators = 100, random_state=30434)\n",
    "clf.fit(X_train_model,y_train)\n",
    "predictions=clf.predict(X_test_model)\n",
    "from sklearn.metrics import accuracy_score, precision_score,recall_score, f1_score\n",
    "accuracy = accuracy_score(y_test, predictions)\n",
    "precision = precision_score(y_test, predictions)\n",
    "recall = recall_score(y_test, predictions)\n",
    "f1 = f1_score(y_test, predictions)\n",
    "print(\"Performance Random forest:\")\n",
    "print(\" - accuracy = \" + str(accuracy))\n",
    "print(\" - precision = \" + str(precision))\n",
    "print(\" - recall = \" + str(recall))\n",
    "print(\" - f1 = \" + str(f1))"
   ]
  },
  {
   "cell_type": "code",
   "execution_count": 16,
   "metadata": {},
   "outputs": [
    {
     "name": "stdout",
     "output_type": "stream",
     "text": [
      "Performance XgBoost:\n",
      " - accuracy = 0.5569620253164557\n",
      " - precision = 0.5128205128205128\n",
      " - recall = 0.5555555555555556\n",
      " - f1 = 0.5333333333333333\n"
     ]
    }
   ],
   "source": [
    "# XGBOOT\n",
    "import xgboost as xgb\n",
    "gbm = xgb.XGBClassifier(max_depth=3, n_estimators=300, learning_rate=0.05).fit(X_train_model, y_train)\n",
    "predictions = gbm.predict(X_test_model)\n",
    "from sklearn.metrics import accuracy_score, precision_score,recall_score, f1_score\n",
    "accuracy = accuracy_score(y_test, predictions)\n",
    "precision = precision_score(y_test, predictions)\n",
    "recall = recall_score(y_test, predictions)\n",
    "f1 = f1_score(y_test, predictions)\n",
    "print(\"Performance XgBoost:\")\n",
    "print(\" - accuracy = \" + str(accuracy))\n",
    "print(\" - precision = \" + str(precision))\n",
    "print(\" - recall = \" + str(recall))\n",
    "print(\" - f1 = \" + str(f1))"
   ]
  },
  {
   "cell_type": "code",
   "execution_count": 17,
   "metadata": {},
   "outputs": [
    {
     "name": "stderr",
     "output_type": "stream",
     "text": [
      "Using TensorFlow backend.\n"
     ]
    },
    {
     "name": "stdout",
     "output_type": "stream",
     "text": [
      "WARNING:tensorflow:From /usr/local/lib/python3.7/site-packages/tensorflow/python/framework/op_def_library.py:263: colocate_with (from tensorflow.python.framework.ops) is deprecated and will be removed in a future version.\n",
      "Instructions for updating:\n",
      "Colocations handled automatically by placer.\n",
      "WARNING:tensorflow:From /usr/local/lib/python3.7/site-packages/tensorflow/python/ops/math_ops.py:3066: to_int32 (from tensorflow.python.ops.math_ops) is deprecated and will be removed in a future version.\n",
      "Instructions for updating:\n",
      "Use tf.cast instead.\n"
     ]
    },
    {
     "name": "stderr",
     "output_type": "stream",
     "text": [
      "/usr/local/lib/python3.7/site-packages/ipykernel_launcher.py:6: UserWarning: Update your `Dense` call to the Keras 2 API: `Dense(activation=\"relu\", input_dim=10, units=6, kernel_initializer=\"uniform\")`\n",
      "  \n",
      "/usr/local/lib/python3.7/site-packages/ipykernel_launcher.py:8: UserWarning: Update your `Dense` call to the Keras 2 API: `Dense(activation=\"relu\", units=6, kernel_initializer=\"uniform\")`\n",
      "  \n",
      "/usr/local/lib/python3.7/site-packages/ipykernel_launcher.py:10: UserWarning: Update your `Dense` call to the Keras 2 API: `Dense(activation=\"sigmoid\", units=1, kernel_initializer=\"uniform\")`\n",
      "  # Remove the CWD from sys.path while we load stuff.\n",
      "/usr/local/lib/python3.7/site-packages/ipykernel_launcher.py:14: UserWarning: The `nb_epoch` argument in `fit` has been renamed `epochs`.\n",
      "  \n"
     ]
    },
    {
     "name": "stdout",
     "output_type": "stream",
     "text": [
      "Epoch 1/100\n",
      "316/316 [==============================] - 0s 893us/step - loss: 0.6929 - acc: 0.5411\n",
      "Epoch 2/100\n",
      "316/316 [==============================] - 0s 114us/step - loss: 0.6924 - acc: 0.5475\n",
      "Epoch 3/100\n",
      "316/316 [==============================] - 0s 119us/step - loss: 0.6915 - acc: 0.5475\n",
      "Epoch 4/100\n",
      "316/316 [==============================] - 0s 122us/step - loss: 0.6902 - acc: 0.5475\n",
      "Epoch 5/100\n",
      "316/316 [==============================] - 0s 120us/step - loss: 0.6884 - acc: 0.5475\n",
      "Epoch 6/100\n",
      "316/316 [==============================] - 0s 126us/step - loss: 0.6858 - acc: 0.5475\n",
      "Epoch 7/100\n",
      "316/316 [==============================] - 0s 124us/step - loss: 0.6829 - acc: 0.5475\n",
      "Epoch 8/100\n",
      "316/316 [==============================] - 0s 132us/step - loss: 0.6796 - acc: 0.5475\n",
      "Epoch 9/100\n",
      "316/316 [==============================] - 0s 131us/step - loss: 0.6767 - acc: 0.5475\n",
      "Epoch 10/100\n",
      "316/316 [==============================] - 0s 140us/step - loss: 0.6769 - acc: 0.5475\n",
      "Epoch 11/100\n",
      "316/316 [==============================] - 0s 132us/step - loss: 0.6702 - acc: 0.5570\n",
      "Epoch 12/100\n",
      "316/316 [==============================] - 0s 133us/step - loss: 0.6669 - acc: 0.6013\n",
      "Epoch 13/100\n",
      "316/316 [==============================] - 0s 126us/step - loss: 0.6634 - acc: 0.6171\n",
      "Epoch 14/100\n",
      "316/316 [==============================] - 0s 124us/step - loss: 0.6600 - acc: 0.6203\n",
      "Epoch 15/100\n",
      "316/316 [==============================] - 0s 121us/step - loss: 0.6561 - acc: 0.6392\n",
      "Epoch 16/100\n",
      "316/316 [==============================] - 0s 117us/step - loss: 0.6530 - acc: 0.6361\n",
      "Epoch 17/100\n",
      "316/316 [==============================] - 0s 127us/step - loss: 0.6481 - acc: 0.6519\n",
      "Epoch 18/100\n",
      "316/316 [==============================] - 0s 126us/step - loss: 0.6433 - acc: 0.6424\n",
      "Epoch 19/100\n",
      "316/316 [==============================] - 0s 123us/step - loss: 0.6397 - acc: 0.6456\n",
      "Epoch 20/100\n",
      "316/316 [==============================] - 0s 126us/step - loss: 0.6353 - acc: 0.6392\n",
      "Epoch 21/100\n",
      "316/316 [==============================] - 0s 130us/step - loss: 0.6338 - acc: 0.6456\n",
      "Epoch 22/100\n",
      "316/316 [==============================] - 0s 133us/step - loss: 0.6311 - acc: 0.6582\n",
      "Epoch 23/100\n",
      "316/316 [==============================] - 0s 126us/step - loss: 0.6280 - acc: 0.6582\n",
      "Epoch 24/100\n",
      "316/316 [==============================] - 0s 125us/step - loss: 0.6238 - acc: 0.6677\n",
      "Epoch 25/100\n",
      "316/316 [==============================] - 0s 129us/step - loss: 0.6216 - acc: 0.6646\n",
      "Epoch 26/100\n",
      "316/316 [==============================] - 0s 121us/step - loss: 0.6199 - acc: 0.6741\n",
      "Epoch 27/100\n",
      "316/316 [==============================] - 0s 128us/step - loss: 0.6171 - acc: 0.6677\n",
      "Epoch 28/100\n",
      "316/316 [==============================] - 0s 125us/step - loss: 0.6157 - acc: 0.6646\n",
      "Epoch 29/100\n",
      "316/316 [==============================] - 0s 125us/step - loss: 0.6149 - acc: 0.6646\n",
      "Epoch 30/100\n",
      "316/316 [==============================] - 0s 133us/step - loss: 0.6127 - acc: 0.6646\n",
      "Epoch 31/100\n",
      "316/316 [==============================] - 0s 128us/step - loss: 0.6114 - acc: 0.6677\n",
      "Epoch 32/100\n",
      "316/316 [==============================] - 0s 140us/step - loss: 0.6112 - acc: 0.6677\n",
      "Epoch 33/100\n",
      "316/316 [==============================] - 0s 124us/step - loss: 0.6126 - acc: 0.6646\n",
      "Epoch 34/100\n",
      "316/316 [==============================] - 0s 135us/step - loss: 0.6086 - acc: 0.6741\n",
      "Epoch 35/100\n",
      "316/316 [==============================] - 0s 137us/step - loss: 0.6085 - acc: 0.6646\n",
      "Epoch 36/100\n",
      "316/316 [==============================] - 0s 130us/step - loss: 0.6076 - acc: 0.6709\n",
      "Epoch 37/100\n",
      "316/316 [==============================] - 0s 131us/step - loss: 0.6079 - acc: 0.6677\n",
      "Epoch 38/100\n",
      "316/316 [==============================] - 0s 139us/step - loss: 0.6066 - acc: 0.6741\n",
      "Epoch 39/100\n",
      "316/316 [==============================] - 0s 139us/step - loss: 0.6061 - acc: 0.6741\n",
      "Epoch 40/100\n",
      "316/316 [==============================] - 0s 136us/step - loss: 0.6055 - acc: 0.6709\n",
      "Epoch 41/100\n",
      "316/316 [==============================] - 0s 140us/step - loss: 0.6050 - acc: 0.6741\n",
      "Epoch 42/100\n",
      "316/316 [==============================] - 0s 139us/step - loss: 0.6043 - acc: 0.6772\n",
      "Epoch 43/100\n",
      "316/316 [==============================] - 0s 138us/step - loss: 0.6043 - acc: 0.6741\n",
      "Epoch 44/100\n",
      "316/316 [==============================] - 0s 131us/step - loss: 0.6043 - acc: 0.6772\n",
      "Epoch 45/100\n",
      "316/316 [==============================] - 0s 132us/step - loss: 0.6064 - acc: 0.6709\n",
      "Epoch 46/100\n",
      "316/316 [==============================] - 0s 127us/step - loss: 0.6034 - acc: 0.6804\n",
      "Epoch 47/100\n",
      "316/316 [==============================] - 0s 131us/step - loss: 0.6034 - acc: 0.6772\n",
      "Epoch 48/100\n",
      "316/316 [==============================] - 0s 131us/step - loss: 0.6028 - acc: 0.6772\n",
      "Epoch 49/100\n",
      "316/316 [==============================] - 0s 131us/step - loss: 0.6024 - acc: 0.6772\n",
      "Epoch 50/100\n",
      "316/316 [==============================] - 0s 119us/step - loss: 0.6024 - acc: 0.6741\n",
      "Epoch 51/100\n",
      "316/316 [==============================] - 0s 120us/step - loss: 0.6029 - acc: 0.6804\n",
      "Epoch 52/100\n",
      "316/316 [==============================] - 0s 129us/step - loss: 0.6021 - acc: 0.6772\n",
      "Epoch 53/100\n",
      "316/316 [==============================] - 0s 115us/step - loss: 0.6023 - acc: 0.6741\n",
      "Epoch 54/100\n",
      "316/316 [==============================] - 0s 133us/step - loss: 0.6020 - acc: 0.6772\n",
      "Epoch 55/100\n",
      "316/316 [==============================] - 0s 121us/step - loss: 0.6010 - acc: 0.6804\n",
      "Epoch 56/100\n",
      "316/316 [==============================] - 0s 120us/step - loss: 0.6007 - acc: 0.6804\n",
      "Epoch 57/100\n",
      "316/316 [==============================] - 0s 131us/step - loss: 0.6006 - acc: 0.6804\n",
      "Epoch 58/100\n",
      "316/316 [==============================] - 0s 128us/step - loss: 0.6003 - acc: 0.6804\n",
      "Epoch 59/100\n",
      "316/316 [==============================] - 0s 121us/step - loss: 0.6013 - acc: 0.6804\n",
      "Epoch 60/100\n",
      "316/316 [==============================] - 0s 136us/step - loss: 0.6010 - acc: 0.6741\n",
      "Epoch 61/100\n",
      "316/316 [==============================] - 0s 122us/step - loss: 0.6009 - acc: 0.6835\n",
      "Epoch 62/100\n",
      "316/316 [==============================] - 0s 118us/step - loss: 0.6006 - acc: 0.6772\n",
      "Epoch 63/100\n",
      "316/316 [==============================] - 0s 124us/step - loss: 0.6001 - acc: 0.6804\n",
      "Epoch 64/100\n",
      "316/316 [==============================] - 0s 124us/step - loss: 0.6006 - acc: 0.6772\n",
      "Epoch 65/100\n",
      "316/316 [==============================] - 0s 134us/step - loss: 0.6003 - acc: 0.6772\n",
      "Epoch 66/100\n",
      "316/316 [==============================] - 0s 146us/step - loss: 0.5986 - acc: 0.6835\n",
      "Epoch 67/100\n",
      "316/316 [==============================] - 0s 127us/step - loss: 0.6000 - acc: 0.6835\n",
      "Epoch 68/100\n",
      "316/316 [==============================] - 0s 120us/step - loss: 0.5994 - acc: 0.6772\n",
      "Epoch 69/100\n",
      "316/316 [==============================] - 0s 120us/step - loss: 0.5990 - acc: 0.6804\n",
      "Epoch 70/100\n",
      "316/316 [==============================] - 0s 131us/step - loss: 0.5987 - acc: 0.6835\n",
      "Epoch 71/100\n",
      "316/316 [==============================] - 0s 117us/step - loss: 0.5985 - acc: 0.6772\n",
      "Epoch 72/100\n",
      "316/316 [==============================] - 0s 125us/step - loss: 0.5985 - acc: 0.6804\n",
      "Epoch 73/100\n",
      "316/316 [==============================] - 0s 128us/step - loss: 0.5994 - acc: 0.6772\n",
      "Epoch 74/100\n",
      "316/316 [==============================] - 0s 126us/step - loss: 0.6012 - acc: 0.6772\n",
      "Epoch 75/100\n",
      "316/316 [==============================] - 0s 121us/step - loss: 0.5986 - acc: 0.6804\n",
      "Epoch 76/100\n",
      "316/316 [==============================] - 0s 128us/step - loss: 0.5991 - acc: 0.6741\n",
      "Epoch 77/100\n",
      "316/316 [==============================] - 0s 124us/step - loss: 0.5982 - acc: 0.6804\n",
      "Epoch 78/100\n",
      "316/316 [==============================] - 0s 140us/step - loss: 0.5977 - acc: 0.6835\n",
      "Epoch 79/100\n",
      "316/316 [==============================] - 0s 117us/step - loss: 0.5979 - acc: 0.6772\n",
      "Epoch 80/100\n",
      "316/316 [==============================] - 0s 125us/step - loss: 0.5971 - acc: 0.6835\n",
      "Epoch 81/100\n",
      "316/316 [==============================] - 0s 120us/step - loss: 0.5971 - acc: 0.6804\n",
      "Epoch 82/100\n",
      "316/316 [==============================] - 0s 124us/step - loss: 0.5973 - acc: 0.6772\n",
      "Epoch 83/100\n"
     ]
    },
    {
     "name": "stdout",
     "output_type": "stream",
     "text": [
      "316/316 [==============================] - 0s 115us/step - loss: 0.5987 - acc: 0.6835\n",
      "Epoch 84/100\n",
      "316/316 [==============================] - 0s 117us/step - loss: 0.5970 - acc: 0.6772\n",
      "Epoch 85/100\n",
      "316/316 [==============================] - 0s 118us/step - loss: 0.5972 - acc: 0.6772\n",
      "Epoch 86/100\n",
      "316/316 [==============================] - 0s 119us/step - loss: 0.5968 - acc: 0.6804\n",
      "Epoch 87/100\n",
      "316/316 [==============================] - 0s 118us/step - loss: 0.5966 - acc: 0.6772\n",
      "Epoch 88/100\n",
      "316/316 [==============================] - 0s 114us/step - loss: 0.5969 - acc: 0.6804\n",
      "Epoch 89/100\n",
      "316/316 [==============================] - 0s 114us/step - loss: 0.5966 - acc: 0.6804\n",
      "Epoch 90/100\n",
      "316/316 [==============================] - 0s 127us/step - loss: 0.5967 - acc: 0.6835\n",
      "Epoch 91/100\n",
      "316/316 [==============================] - 0s 128us/step - loss: 0.5970 - acc: 0.6867\n",
      "Epoch 92/100\n",
      "316/316 [==============================] - 0s 122us/step - loss: 0.5955 - acc: 0.6804\n",
      "Epoch 93/100\n",
      "316/316 [==============================] - 0s 122us/step - loss: 0.5957 - acc: 0.6804\n",
      "Epoch 94/100\n",
      "316/316 [==============================] - 0s 122us/step - loss: 0.5957 - acc: 0.6804\n",
      "Epoch 95/100\n",
      "316/316 [==============================] - 0s 123us/step - loss: 0.5955 - acc: 0.6804\n",
      "Epoch 96/100\n",
      "316/316 [==============================] - 0s 124us/step - loss: 0.5966 - acc: 0.6835\n",
      "Epoch 97/100\n",
      "316/316 [==============================] - 0s 130us/step - loss: 0.5961 - acc: 0.6804\n",
      "Epoch 98/100\n",
      "316/316 [==============================] - 0s 125us/step - loss: 0.5964 - acc: 0.6772\n",
      "Epoch 99/100\n",
      "316/316 [==============================] - 0s 120us/step - loss: 0.5956 - acc: 0.6772\n",
      "Epoch 100/100\n",
      "316/316 [==============================] - 0s 121us/step - loss: 0.5953 - acc: 0.6804\n",
      "79/79 [==============================] - 0s 433us/step\n",
      "Performance Neuron network:\n",
      "Test score: 0.7026022672653198\n",
      "Test accuracy: 0.5569620132446289\n"
     ]
    }
   ],
   "source": [
    "import keras\n",
    "from keras.models import Sequential\n",
    "from keras.layers import Dense\n",
    "classifier = Sequential()\n",
    " # Adding the input layer and the first hidden layer\n",
    "classifier.add(Dense(output_dim = 6, init = 'uniform', activation = 'relu', input_dim = 10))\n",
    "# Adding the second hidden layer\n",
    "classifier.add(Dense(output_dim = 6, init = 'uniform', activation = 'relu'))\n",
    "# Adding the output layer\n",
    "classifier.add(Dense(output_dim = 1, init = 'uniform', activation = 'sigmoid'))\n",
    "# Compiling the ANN\n",
    "classifier.compile(optimizer = 'adam', loss = 'binary_crossentropy', metrics = ['accuracy'])\n",
    "# Fitting ANN to the training set\n",
    "classifier.fit(X_train_model, y_train, batch_size = 10, nb_epoch = 100)\n",
    "# predictions = classifier.predict(X_test_model)\n",
    "score = classifier.evaluate(X_test_model, y_test, batch_size=128)\n",
    "print(\"Performance Neuron network:\")\n",
    "print(\"Test score:\", score[0])\n",
    "print(\"Test accuracy:\", score[1])"
   ]
  },
  {
   "cell_type": "code",
   "execution_count": null,
   "metadata": {},
   "outputs": [],
   "source": []
  }
 ],
 "metadata": {
  "kernelspec": {
   "display_name": "Python 3",
   "language": "python",
   "name": "python3"
  },
  "language_info": {
   "codemirror_mode": {
    "name": "ipython",
    "version": 3
   },
   "file_extension": ".py",
   "mimetype": "text/x-python",
   "name": "python",
   "nbconvert_exporter": "python",
   "pygments_lexer": "ipython3",
   "version": "3.7.0"
  }
 },
 "nbformat": 4,
 "nbformat_minor": 2
}
