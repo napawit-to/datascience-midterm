{
 "cells": [
  {
   "cell_type": "code",
   "execution_count": 1,
   "metadata": {},
   "outputs": [],
   "source": [
    "import os\n",
    "import numpy as np\n",
    "import pandas as pd"
   ]
  },
  {
   "cell_type": "code",
   "execution_count": 2,
   "metadata": {},
   "outputs": [
    {
     "data": {
      "text/plain": [
       "(395, 33)"
      ]
     },
     "execution_count": 2,
     "metadata": {},
     "output_type": "execute_result"
    }
   ],
   "source": [
    "df = pd.read_csv(\"/Users/admin/DataScience/midterm/student/student-mat.csv\")\n",
    "df.shape"
   ]
  },
  {
   "cell_type": "code",
   "execution_count": 3,
   "metadata": {},
   "outputs": [],
   "source": [
    "df = df.drop(columns = 'G2')\n",
    "df = df.drop(columns = 'G1')\n",
    "df.shape\n",
    "df['sex'].replace(['M', 'F'], [1, 0], inplace=True)\n",
    "df['address'].replace(['U', 'R'], [1, 0], inplace=True)\n",
    "df['famsize'].replace(['LE3', 'GT3'], [1, 0], inplace=True)\n",
    "df['Pstatus'].replace(['T', 'A'], [1, 0], inplace=True)\n",
    "df['Mjob'].replace(['other', 'services','at_home','teacher','health'], [4,3,2,1,0], inplace=True)\n",
    "df['Fjob'].replace(['other', 'services','at_home','teacher','health'], [4,3,2,1,0], inplace=True)\n",
    "df['reason'].replace(['course', 'home','reputation','other'], [3,2,1,0], inplace=True)\n",
    "df['schoolsup'].replace(['yes', 'no'], [1, 0], inplace=True)\n",
    "df['famsup'].replace(['yes', 'no'], [1, 0], inplace=True)\n",
    "df['paid'].replace(['yes', 'no'], [1, 0], inplace=True)\n",
    "df['activities'].replace(['yes', 'no'], [1, 0], inplace=True)\n",
    "df['nursery'].replace(['yes', 'no'], [1, 0], inplace=True)\n",
    "df['higher'].replace(['yes', 'no'], [1, 0], inplace=True)\n",
    "df['internet'].replace(['yes', 'no'], [1, 0], inplace=True)\n",
    "df['romantic'].replace(['yes', 'no'], [1, 0], inplace=True)\n",
    "df.loc[df['G3'] < 11, 'G3'] = 0\n",
    "df.loc[df['G3'] > 10, 'G3'] = 1\n",
    "X = df.iloc[:,1:30].values\n",
    "y = df.iloc[:,-1].values"
   ]
  },
  {
   "cell_type": "code",
   "execution_count": 7,
   "metadata": {},
   "outputs": [
    {
     "name": "stderr",
     "output_type": "stream",
     "text": [
      "/usr/local/lib/python3.7/site-packages/sklearn/preprocessing/_encoders.py:368: FutureWarning: The handling of integer data will change in version 0.22. Currently, the categories are determined based on the range [0, max(values)], while in the future they will be determined based on the unique values.\n",
      "If you want the future behaviour and silence this warning, you can specify \"categories='auto'\".\n",
      "In case you used a LabelEncoder before this OneHotEncoder to convert the categories to integers, then you can now use the OneHotEncoder directly.\n",
      "  warnings.warn(msg, FutureWarning)\n",
      "/usr/local/lib/python3.7/site-packages/sklearn/preprocessing/_encoders.py:390: DeprecationWarning: The 'categorical_features' keyword is deprecated in version 0.20 and will be removed in 0.22. You can use the ColumnTransformer instead.\n",
      "  \"use the ColumnTransformer instead.\", DeprecationWarning)\n"
     ]
    }
   ],
   "source": [
    "from sklearn.preprocessing import LabelEncoder, OneHotEncoder\n",
    "labelencoder_X_1 = LabelEncoder()\n",
    "X[:, 10] = labelencoder_X_1.fit_transform(X[:, 10])\n",
    "onehotencoder = OneHotEncoder(categorical_features = [10])\n",
    "X = onehotencoder.fit_transform(X).toarray()"
   ]
  },
  {
   "cell_type": "code",
   "execution_count": 5,
   "metadata": {},
   "outputs": [],
   "source": [
    "from sklearn.preprocessing import MinMaxScaler\n",
    "from sklearn.model_selection import train_test_split\n",
    "X_train, X_test, y_train, y_test = train_test_split(X, y, test_size=0.2,\n",
    "random_state=30434)\n",
    "mScaler =MinMaxScaler(copy=True, feature_range=(0, 1))\n",
    "X_train = mScaler.fit_transform(X_train)\n",
    "X_test = mScaler.transform(X_test)"
   ]
  },
  {
   "cell_type": "code",
   "execution_count": 10,
   "metadata": {},
   "outputs": [
    {
     "data": {
      "text/plain": [
       "RandomForestClassifier(bootstrap=True, class_weight=None, criterion='gini',\n",
       "            max_depth=None, max_features='auto', max_leaf_nodes=None,\n",
       "            min_impurity_decrease=0.0, min_impurity_split=None,\n",
       "            min_samples_leaf=1, min_samples_split=2,\n",
       "            min_weight_fraction_leaf=0.0, n_estimators=100, n_jobs=None,\n",
       "            oob_score=False, random_state=30434, verbose=0,\n",
       "            warm_start=False)"
      ]
     },
     "execution_count": 10,
     "metadata": {},
     "output_type": "execute_result"
    }
   ],
   "source": [
    "from sklearn.ensemble.forest import RandomForestClassifier\n",
    "from sklearn.feature_selection import SelectFromModel\n",
    "rf = RandomForestClassifier(n_estimators = 100, random_state=30434)\n",
    "rf.fit(X_train, y_train)"
   ]
  },
  {
   "cell_type": "code",
   "execution_count": 11,
   "metadata": {},
   "outputs": [
    {
     "data": {
      "text/plain": [
       "array([False, False, False, False,  True, False, False, False,  True,\n",
       "        True,  True, False, False, False,  True,  True, False, False,\n",
       "       False, False, False, False, False, False, False,  True,  True,\n",
       "       False,  True,  True,  True])"
      ]
     },
     "execution_count": 11,
     "metadata": {},
     "output_type": "execute_result"
    }
   ],
   "source": [
    "importances = rf.feature_importances_\n",
    "indices = np.argsort(importances)[::-1]\n",
    "sfm = SelectFromModel(rf, threshold=0.04)\n",
    "sfm.fit(X_train, y_train)\n",
    "rf_feature_boolean_selector = sfm.get_support()\n",
    "rf_feature_boolean_selector"
   ]
  },
  {
   "cell_type": "code",
   "execution_count": 13,
   "metadata": {},
   "outputs": [
    {
     "name": "stdout",
     "output_type": "stream",
     "text": [
      "Performance Logistic Regression:\n",
      " - accuracy = 0.5569620253164557\n",
      " - precision = 0.5102040816326531\n",
      " - recall = 0.6944444444444444\n",
      " - f1 = 0.588235294117647\n"
     ]
    }
   ],
   "source": [
    "from sklearn.metrics import accuracy_score, precision_score,recall_score, f1_score\n",
    "from sklearn.linear_model import LogisticRegression\n",
    "X_train_model = sfm.transform(X_train)\n",
    "X_test_model = sfm.transform(X_test)\n",
    "logisticRegr = LogisticRegression(solver='lbfgs', max_iter=1000)\n",
    "logisticRegr.fit(X_train_model, y_train)\n",
    "predictions = logisticRegr.predict(X_test_model)\n",
    "accuracy = accuracy_score(y_test, predictions)\n",
    "precision = precision_score(y_test, predictions)\n",
    "recall = recall_score(y_test, predictions)\n",
    "f1 = f1_score(y_test, predictions)\n",
    "print(\"Performance Logistic Regression:\")\n",
    "print(\" - accuracy = \" + str(accuracy))\n",
    "print(\" - precision = \" + str(precision))\n",
    "print(\" - recall = \" + str(recall))\n",
    "print(\" - f1 = \" + str(f1))"
   ]
  },
  {
   "cell_type": "code",
   "execution_count": 14,
   "metadata": {},
   "outputs": [
    {
     "name": "stdout",
     "output_type": "stream",
     "text": [
      "Performance Random forest:\n",
      " - accuracy = 0.5822784810126582\n",
      " - precision = 0.5365853658536586\n",
      " - recall = 0.6111111111111112\n",
      " - f1 = 0.5714285714285715\n"
     ]
    }
   ],
   "source": [
    "# Random forest\n",
    "from sklearn.ensemble import RandomForestClassifier\n",
    "clf=RandomForestClassifier(n_estimators = 100, random_state=30434)\n",
    "clf.fit(X_train_model,y_train)\n",
    "predictions=clf.predict(X_test_model)\n",
    "from sklearn.metrics import accuracy_score, precision_score,recall_score, f1_score\n",
    "accuracy = accuracy_score(y_test, predictions)\n",
    "precision = precision_score(y_test, predictions)\n",
    "recall = recall_score(y_test, predictions)\n",
    "f1 = f1_score(y_test, predictions)\n",
    "print(\"Performance Random forest:\")\n",
    "print(\" - accuracy = \" + str(accuracy))\n",
    "print(\" - precision = \" + str(precision))\n",
    "print(\" - recall = \" + str(recall))\n",
    "print(\" - f1 = \" + str(f1))"
   ]
  },
  {
   "cell_type": "code",
   "execution_count": 12,
   "metadata": {},
   "outputs": [
    {
     "name": "stdout",
     "output_type": "stream",
     "text": [
      "Performance XGBOOT:\n",
      " - accuracy = 0.5443037974683544\n",
      " - precision = 0.5\n",
      " - recall = 0.6388888888888888\n",
      " - f1 = 0.5609756097560975\n"
     ]
    }
   ],
   "source": [
    "# XGBOOT\n",
    "import xgboost as xgb\n",
    "gbm = xgb.XGBClassifier(max_depth=3, n_estimators=300, learning_rate=0.05).fit(X_train_model, y_train)\n",
    "predictions = gbm.predict(X_test_model)\n",
    "from sklearn.metrics import accuracy_score, precision_score,recall_score, f1_score\n",
    "accuracy = accuracy_score(y_test, predictions)\n",
    "precision = precision_score(y_test, predictions)\n",
    "recall = recall_score(y_test, predictions)\n",
    "f1 = f1_score(y_test, predictions)\n",
    "print(\"Performance XGBOOT:\")\n",
    "print(\" - accuracy = \" + str(accuracy))\n",
    "print(\" - precision = \" + str(precision))\n",
    "print(\" - recall = \" + str(recall))\n",
    "print(\" - f1 = \" + str(f1))"
   ]
  },
  {
   "cell_type": "code",
   "execution_count": 16,
   "metadata": {},
   "outputs": [
    {
     "name": "stdout",
     "output_type": "stream",
     "text": [
      "WARNING:tensorflow:From /usr/local/lib/python3.7/site-packages/tensorflow/python/ops/math_ops.py:3066: to_int32 (from tensorflow.python.ops.math_ops) is deprecated and will be removed in a future version.\n",
      "Instructions for updating:\n",
      "Use tf.cast instead.\n"
     ]
    },
    {
     "name": "stderr",
     "output_type": "stream",
     "text": [
      "/usr/local/lib/python3.7/site-packages/ipykernel_launcher.py:6: UserWarning: Update your `Dense` call to the Keras 2 API: `Dense(activation=\"relu\", input_dim=11, units=6, kernel_initializer=\"uniform\")`\n",
      "  \n",
      "/usr/local/lib/python3.7/site-packages/ipykernel_launcher.py:8: UserWarning: Update your `Dense` call to the Keras 2 API: `Dense(activation=\"relu\", units=6, kernel_initializer=\"uniform\")`\n",
      "  \n",
      "/usr/local/lib/python3.7/site-packages/ipykernel_launcher.py:10: UserWarning: Update your `Dense` call to the Keras 2 API: `Dense(activation=\"sigmoid\", units=1, kernel_initializer=\"uniform\")`\n",
      "  # Remove the CWD from sys.path while we load stuff.\n",
      "/usr/local/lib/python3.7/site-packages/ipykernel_launcher.py:14: UserWarning: The `nb_epoch` argument in `fit` has been renamed `epochs`.\n",
      "  \n"
     ]
    },
    {
     "name": "stdout",
     "output_type": "stream",
     "text": [
      "Epoch 1/100\n",
      "316/316 [==============================] - 0s 983us/step - loss: 0.6930 - acc: 0.5158\n",
      "Epoch 2/100\n",
      "316/316 [==============================] - 0s 113us/step - loss: 0.6925 - acc: 0.5475\n",
      "Epoch 3/100\n",
      "316/316 [==============================] - 0s 116us/step - loss: 0.6918 - acc: 0.5475\n",
      "Epoch 4/100\n",
      "316/316 [==============================] - 0s 125us/step - loss: 0.6908 - acc: 0.5475\n",
      "Epoch 5/100\n",
      "316/316 [==============================] - 0s 117us/step - loss: 0.6888 - acc: 0.5475\n",
      "Epoch 6/100\n",
      "316/316 [==============================] - 0s 115us/step - loss: 0.6867 - acc: 0.5475\n",
      "Epoch 7/100\n",
      "316/316 [==============================] - 0s 117us/step - loss: 0.6842 - acc: 0.5475\n",
      "Epoch 8/100\n",
      "316/316 [==============================] - 0s 111us/step - loss: 0.6799 - acc: 0.5475\n",
      "Epoch 9/100\n",
      "316/316 [==============================] - 0s 126us/step - loss: 0.6765 - acc: 0.5696\n",
      "Epoch 10/100\n",
      "316/316 [==============================] - 0s 121us/step - loss: 0.6720 - acc: 0.5918\n",
      "Epoch 11/100\n",
      "316/316 [==============================] - 0s 125us/step - loss: 0.6665 - acc: 0.6203\n",
      "Epoch 12/100\n",
      "316/316 [==============================] - 0s 124us/step - loss: 0.6619 - acc: 0.6424\n",
      "Epoch 13/100\n",
      "316/316 [==============================] - 0s 135us/step - loss: 0.6576 - acc: 0.6424\n",
      "Epoch 14/100\n",
      "316/316 [==============================] - 0s 120us/step - loss: 0.6527 - acc: 0.6456\n",
      "Epoch 15/100\n",
      "316/316 [==============================] - 0s 132us/step - loss: 0.6474 - acc: 0.6519\n",
      "Epoch 16/100\n",
      "316/316 [==============================] - 0s 124us/step - loss: 0.6419 - acc: 0.6519\n",
      "Epoch 17/100\n",
      "316/316 [==============================] - 0s 131us/step - loss: 0.6372 - acc: 0.6582\n",
      "Epoch 18/100\n",
      "316/316 [==============================] - 0s 119us/step - loss: 0.6329 - acc: 0.6709\n",
      "Epoch 19/100\n",
      "316/316 [==============================] - 0s 116us/step - loss: 0.6273 - acc: 0.6646\n",
      "Epoch 20/100\n",
      "316/316 [==============================] - 0s 123us/step - loss: 0.6250 - acc: 0.6582\n",
      "Epoch 21/100\n",
      "316/316 [==============================] - 0s 129us/step - loss: 0.6191 - acc: 0.6677\n",
      "Epoch 22/100\n",
      "316/316 [==============================] - 0s 111us/step - loss: 0.6168 - acc: 0.6709\n",
      "Epoch 23/100\n",
      "316/316 [==============================] - 0s 115us/step - loss: 0.6130 - acc: 0.6424\n",
      "Epoch 24/100\n",
      "316/316 [==============================] - 0s 109us/step - loss: 0.6098 - acc: 0.6551\n",
      "Epoch 25/100\n",
      "316/316 [==============================] - 0s 116us/step - loss: 0.6076 - acc: 0.6551\n",
      "Epoch 26/100\n",
      "316/316 [==============================] - 0s 122us/step - loss: 0.6058 - acc: 0.6709\n",
      "Epoch 27/100\n",
      "316/316 [==============================] - 0s 120us/step - loss: 0.6031 - acc: 0.6709\n",
      "Epoch 28/100\n",
      "316/316 [==============================] - 0s 125us/step - loss: 0.6029 - acc: 0.6646\n",
      "Epoch 29/100\n",
      "316/316 [==============================] - 0s 121us/step - loss: 0.5996 - acc: 0.6709\n",
      "Epoch 30/100\n",
      "316/316 [==============================] - 0s 110us/step - loss: 0.6016 - acc: 0.6551\n",
      "Epoch 31/100\n",
      "316/316 [==============================] - 0s 113us/step - loss: 0.5980 - acc: 0.6487\n",
      "Epoch 32/100\n",
      "316/316 [==============================] - 0s 109us/step - loss: 0.6002 - acc: 0.6709\n",
      "Epoch 33/100\n",
      "316/316 [==============================] - 0s 114us/step - loss: 0.5966 - acc: 0.6614\n",
      "Epoch 34/100\n",
      "316/316 [==============================] - 0s 113us/step - loss: 0.5957 - acc: 0.6487\n",
      "Epoch 35/100\n",
      "316/316 [==============================] - 0s 112us/step - loss: 0.5952 - acc: 0.6677\n",
      "Epoch 36/100\n",
      "316/316 [==============================] - 0s 104us/step - loss: 0.5960 - acc: 0.6646\n",
      "Epoch 37/100\n",
      "316/316 [==============================] - 0s 115us/step - loss: 0.5939 - acc: 0.6646\n",
      "Epoch 38/100\n",
      "316/316 [==============================] - 0s 110us/step - loss: 0.5927 - acc: 0.6741\n",
      "Epoch 39/100\n",
      "316/316 [==============================] - 0s 112us/step - loss: 0.5955 - acc: 0.6646\n",
      "Epoch 40/100\n",
      "316/316 [==============================] - 0s 124us/step - loss: 0.5922 - acc: 0.6646\n",
      "Epoch 41/100\n",
      "316/316 [==============================] - 0s 117us/step - loss: 0.5912 - acc: 0.6614\n",
      "Epoch 42/100\n",
      "316/316 [==============================] - 0s 125us/step - loss: 0.5914 - acc: 0.6709\n",
      "Epoch 43/100\n",
      "316/316 [==============================] - 0s 124us/step - loss: 0.5908 - acc: 0.6582\n",
      "Epoch 44/100\n",
      "316/316 [==============================] - 0s 127us/step - loss: 0.5923 - acc: 0.6741\n",
      "Epoch 45/100\n",
      "316/316 [==============================] - 0s 124us/step - loss: 0.5917 - acc: 0.6709\n",
      "Epoch 46/100\n",
      "316/316 [==============================] - 0s 125us/step - loss: 0.5910 - acc: 0.6646\n",
      "Epoch 47/100\n",
      "316/316 [==============================] - 0s 117us/step - loss: 0.5909 - acc: 0.6614\n",
      "Epoch 48/100\n",
      "316/316 [==============================] - 0s 113us/step - loss: 0.5902 - acc: 0.6772\n",
      "Epoch 49/100\n",
      "316/316 [==============================] - 0s 106us/step - loss: 0.5915 - acc: 0.6614\n",
      "Epoch 50/100\n",
      "316/316 [==============================] - 0s 101us/step - loss: 0.5882 - acc: 0.6677\n",
      "Epoch 51/100\n",
      "316/316 [==============================] - 0s 108us/step - loss: 0.5893 - acc: 0.6867\n",
      "Epoch 52/100\n",
      "316/316 [==============================] - 0s 104us/step - loss: 0.5901 - acc: 0.6804\n",
      "Epoch 53/100\n",
      "316/316 [==============================] - 0s 113us/step - loss: 0.5891 - acc: 0.6709\n",
      "Epoch 54/100\n",
      "316/316 [==============================] - 0s 108us/step - loss: 0.5895 - acc: 0.6551\n",
      "Epoch 55/100\n",
      "316/316 [==============================] - 0s 102us/step - loss: 0.5889 - acc: 0.6772\n",
      "Epoch 56/100\n",
      "316/316 [==============================] - 0s 105us/step - loss: 0.5890 - acc: 0.6646\n",
      "Epoch 57/100\n",
      "316/316 [==============================] - 0s 117us/step - loss: 0.5881 - acc: 0.6646\n",
      "Epoch 58/100\n",
      "316/316 [==============================] - 0s 122us/step - loss: 0.5896 - acc: 0.6772\n",
      "Epoch 59/100\n",
      "316/316 [==============================] - 0s 118us/step - loss: 0.5889 - acc: 0.6646\n",
      "Epoch 60/100\n",
      "316/316 [==============================] - 0s 112us/step - loss: 0.5914 - acc: 0.6772\n",
      "Epoch 61/100\n",
      "316/316 [==============================] - 0s 119us/step - loss: 0.5879 - acc: 0.6709\n",
      "Epoch 62/100\n",
      "316/316 [==============================] - 0s 122us/step - loss: 0.5878 - acc: 0.6582\n",
      "Epoch 63/100\n",
      "316/316 [==============================] - 0s 122us/step - loss: 0.5913 - acc: 0.6835\n",
      "Epoch 64/100\n",
      "316/316 [==============================] - 0s 120us/step - loss: 0.5899 - acc: 0.6804\n",
      "Epoch 65/100\n",
      "316/316 [==============================] - 0s 118us/step - loss: 0.5887 - acc: 0.6614\n",
      "Epoch 66/100\n",
      "316/316 [==============================] - 0s 119us/step - loss: 0.5874 - acc: 0.6741\n",
      "Epoch 67/100\n",
      "316/316 [==============================] - 0s 120us/step - loss: 0.5896 - acc: 0.6677\n",
      "Epoch 68/100\n",
      "316/316 [==============================] - 0s 117us/step - loss: 0.5873 - acc: 0.6677\n",
      "Epoch 69/100\n",
      "316/316 [==============================] - 0s 117us/step - loss: 0.5880 - acc: 0.6835\n",
      "Epoch 70/100\n",
      "316/316 [==============================] - 0s 124us/step - loss: 0.5873 - acc: 0.6867\n",
      "Epoch 71/100\n",
      "316/316 [==============================] - 0s 118us/step - loss: 0.5877 - acc: 0.6582\n",
      "Epoch 72/100\n",
      "316/316 [==============================] - 0s 116us/step - loss: 0.5883 - acc: 0.6867\n",
      "Epoch 73/100\n",
      "316/316 [==============================] - 0s 118us/step - loss: 0.5877 - acc: 0.6930\n",
      "Epoch 74/100\n",
      "316/316 [==============================] - 0s 116us/step - loss: 0.5897 - acc: 0.6614\n",
      "Epoch 75/100\n",
      "316/316 [==============================] - 0s 119us/step - loss: 0.5864 - acc: 0.6709\n",
      "Epoch 76/100\n",
      "316/316 [==============================] - 0s 121us/step - loss: 0.5869 - acc: 0.6741\n",
      "Epoch 77/100\n",
      "316/316 [==============================] - 0s 120us/step - loss: 0.5881 - acc: 0.6835\n",
      "Epoch 78/100\n",
      "316/316 [==============================] - 0s 125us/step - loss: 0.5864 - acc: 0.6709\n",
      "Epoch 79/100\n",
      "316/316 [==============================] - 0s 120us/step - loss: 0.5874 - acc: 0.6677\n",
      "Epoch 80/100\n",
      "316/316 [==============================] - 0s 114us/step - loss: 0.5869 - acc: 0.6804\n",
      "Epoch 81/100\n",
      "316/316 [==============================] - 0s 112us/step - loss: 0.5863 - acc: 0.6804\n",
      "Epoch 82/100\n",
      "316/316 [==============================] - 0s 111us/step - loss: 0.5861 - acc: 0.6614\n",
      "Epoch 83/100\n"
     ]
    },
    {
     "name": "stdout",
     "output_type": "stream",
     "text": [
      "316/316 [==============================] - 0s 106us/step - loss: 0.5863 - acc: 0.6835\n",
      "Epoch 84/100\n",
      "316/316 [==============================] - 0s 104us/step - loss: 0.5883 - acc: 0.6804\n",
      "Epoch 85/100\n",
      "316/316 [==============================] - 0s 108us/step - loss: 0.5898 - acc: 0.6741\n",
      "Epoch 86/100\n",
      "316/316 [==============================] - 0s 109us/step - loss: 0.5883 - acc: 0.6772\n",
      "Epoch 87/100\n",
      "316/316 [==============================] - 0s 111us/step - loss: 0.5869 - acc: 0.6772\n",
      "Epoch 88/100\n",
      "316/316 [==============================] - 0s 108us/step - loss: 0.5862 - acc: 0.6835\n",
      "Epoch 89/100\n",
      "316/316 [==============================] - 0s 108us/step - loss: 0.5867 - acc: 0.6709\n",
      "Epoch 90/100\n",
      "316/316 [==============================] - 0s 111us/step - loss: 0.5924 - acc: 0.6741\n",
      "Epoch 91/100\n",
      "316/316 [==============================] - 0s 111us/step - loss: 0.5872 - acc: 0.6677\n",
      "Epoch 92/100\n",
      "316/316 [==============================] - 0s 116us/step - loss: 0.5866 - acc: 0.6741\n",
      "Epoch 93/100\n",
      "316/316 [==============================] - 0s 117us/step - loss: 0.5861 - acc: 0.6804\n",
      "Epoch 94/100\n",
      "316/316 [==============================] - 0s 121us/step - loss: 0.5870 - acc: 0.6677\n",
      "Epoch 95/100\n",
      "316/316 [==============================] - 0s 115us/step - loss: 0.5864 - acc: 0.6835\n",
      "Epoch 96/100\n",
      "316/316 [==============================] - 0s 111us/step - loss: 0.5868 - acc: 0.6709\n",
      "Epoch 97/100\n",
      "316/316 [==============================] - 0s 112us/step - loss: 0.5858 - acc: 0.6835\n",
      "Epoch 98/100\n",
      "316/316 [==============================] - 0s 114us/step - loss: 0.5880 - acc: 0.6741\n",
      "Epoch 99/100\n",
      "316/316 [==============================] - 0s 113us/step - loss: 0.5870 - acc: 0.6646\n",
      "Epoch 100/100\n",
      "316/316 [==============================] - 0s 112us/step - loss: 0.5872 - acc: 0.6709\n",
      "79/79 [==============================] - 0s 492us/step\n",
      "Performance Neuron network:\n",
      "Test score: 0.7262376546859741\n",
      "Test accuracy: 0.5696202516555786\n"
     ]
    }
   ],
   "source": [
    "import keras\n",
    "from keras.models import Sequential\n",
    "from keras.layers import Dense\n",
    "classifier = Sequential()\n",
    " # Adding the input layer and the first hidden layer\n",
    "classifier.add(Dense(output_dim = 6, init = 'uniform', activation = 'relu', input_dim = 11))\n",
    "# Adding the second hidden layer\n",
    "classifier.add(Dense(output_dim = 6, init = 'uniform', activation = 'relu'))\n",
    "# Adding the output layer\n",
    "classifier.add(Dense(output_dim = 1, init = 'uniform', activation = 'sigmoid'))\n",
    "# Compiling the ANN\n",
    "classifier.compile(optimizer = 'adam', loss = 'binary_crossentropy', metrics = ['accuracy'])\n",
    "# Fitting ANN to the training set\n",
    "classifier.fit(X_train_model, y_train, batch_size = 11, nb_epoch = 100)\n",
    "# predictions = classifier.predict(X_test_model)\n",
    "score = classifier.evaluate(X_test_model, y_test, batch_size=128)\n",
    "print(\"Performance Neuron network:\")\n",
    "print(\"Test score:\", score[0])\n",
    "print(\"Test accuracy:\", score[1])"
   ]
  },
  {
   "cell_type": "code",
   "execution_count": null,
   "metadata": {},
   "outputs": [],
   "source": []
  }
 ],
 "metadata": {
  "kernelspec": {
   "display_name": "Python 3",
   "language": "python",
   "name": "python3"
  },
  "language_info": {
   "codemirror_mode": {
    "name": "ipython",
    "version": 3
   },
   "file_extension": ".py",
   "mimetype": "text/x-python",
   "name": "python",
   "nbconvert_exporter": "python",
   "pygments_lexer": "ipython3",
   "version": "3.7.0"
  }
 },
 "nbformat": 4,
 "nbformat_minor": 2
}
